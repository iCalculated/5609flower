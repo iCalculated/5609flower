{
 "cells": [
  {
   "cell_type": "code",
   "execution_count": 2,
   "metadata": {},
   "outputs": [],
   "source": [
    "import numpy as np\n",
    "from pyedflib import highlevel\n"
   ]
  },
  {
   "cell_type": "markdown",
   "metadata": {},
   "source": [
    "Script to convert text files with embeddings to EDF files."
   ]
  },
  {
   "cell_type": "code",
   "execution_count": 15,
   "metadata": {},
   "outputs": [
    {
     "data": {
      "text/plain": [
       "(24, 88)"
      ]
     },
     "execution_count": 15,
     "metadata": {},
     "output_type": "execute_result"
    }
   ],
   "source": [
    "with open(\"test_embeds.txt\", \"r\") as f:\n",
    "    epochs = np.array([[float(n) for n in x.strip().split()] for x in f.readlines()]).T\n",
    "epochs /= 10\n",
    "epochs.shape"
   ]
  },
  {
   "cell_type": "code",
   "execution_count": 16,
   "metadata": {},
   "outputs": [
    {
     "name": "stderr",
     "output_type": "stream",
     "text": [
      "/Users/shy/Projects/CSCI5609/Flower2/env/lib/python3.10/site-packages/pyedflib/edfwriter.py:844: UserWarning: signals are in Fortran order. Will automatically transfer to C order for compatibility with edflib.\n",
      "  warnings.warn('signals are in Fortran order. Will automatically '\n"
     ]
    },
    {
     "data": {
      "text/plain": [
       "True"
      ]
     },
     "execution_count": 16,
     "metadata": {},
     "output_type": "execute_result"
    }
   ],
   "source": [
    "channel_names = [f'ch{x}' for x in range(24)]\n",
    "# sample freq should be 0.1 for 1 every 10 seconds, this will be 10x (TODO: fix on frontend?)\n",
    "signal_headers = highlevel.make_signal_headers(channel_names, sample_frequency=0.1) \n",
    "#header = highlevel.make_header(patientname='patient_x', gender='Female')\n",
    "header = highlevel.make_header()\n",
    "highlevel.write_edf('embeds.edf', epochs, signal_headers, header)"
   ]
  },
  {
   "cell_type": "code",
   "execution_count": 3,
   "metadata": {},
   "outputs": [
    {
     "name": "stderr",
     "output_type": "stream",
     "text": [
      "/Users/shy/Projects/CSCI5609/Flower2/env/lib/python3.10/site-packages/pyedflib/edfwriter.py:844: UserWarning: signals are in Fortran order. Will automatically transfer to C order for compatibility with edflib.\n",
      "  warnings.warn('signals are in Fortran order. Will automatically '\n"
     ]
    }
   ],
   "source": [
    "# list files in embeds dir with python\n",
    "import os\n",
    "\n",
    "for path in os.listdir('embeds'):\n",
    "    if path == \"test_embeds.txt\":\n",
    "        continue\n",
    "    patient, _, _, session = path.split('.')[0].split('_')\n",
    "    patient, session = int(patient[1:]), int(session)\n",
    "    with open(f'embeds/{path}', 'r') as f:\n",
    "        epochs = np.array([[float(n) for n in x.strip().split()] for x in f.readlines()]).T\n",
    "    epochs /= 50\n",
    "    channel_names = [f'ch{x}' for x in range(24)]\n",
    "    signal_headers = highlevel.make_signal_headers(channel_names, sample_frequency=0.1) \n",
    "    #header = highlevel.make_header(patientname='patient_x', gender='Female')\n",
    "    header = highlevel.make_header()\n",
    "    highlevel.write_edf(f'edfs/patient{patient:02}_session{session:02}.edf', epochs, signal_headers, header)\n"
   ]
  },
  {
   "cell_type": "code",
   "execution_count": 9,
   "metadata": {},
   "outputs": [],
   "source": [
    "%%script true\n",
    "\n",
    "# read an edf file\n",
    "signals, signal_headers, header = highlevel.read_edf('edf_file.edf', ch_names=['ch1', 'ch2'])\n",
    "print(signal_headers[0]['sample_frequency']) # prints 256\n",
    "\n",
    "# drop a channel from the file or anonymize edf\n",
    "highlevel.drop_channels('edf_file.edf', to_drop=['ch2', 'ch4'])\n",
    "highlevel.anonymize_edf('edf_file.edf', new_file='anonymized.edf'\n",
    "                         to_remove=['patientname', 'birthdate'],\n",
    "                         new_values=['anonymized', ''])\n",
    "# check if the two files have the same content\n",
    "highlevel.compare_edf('edf_file.edf', 'anonymized.edf')\n",
    "# change polarity of certain channels\n",
    "highlevel.change_polarity('file.edf', channels=[1,3])\n",
    "# rename channels within a file\n",
    "highlevel.rename_channels('file.edf', mapping={'C3-M1':'C3'})"
   ]
  },
  {
   "cell_type": "code",
   "execution_count": null,
   "metadata": {},
   "outputs": [],
   "source": []
  }
 ],
 "metadata": {
  "kernelspec": {
   "display_name": "env",
   "language": "python",
   "name": "python3"
  },
  "language_info": {
   "codemirror_mode": {
    "name": "ipython",
    "version": 3
   },
   "file_extension": ".py",
   "mimetype": "text/x-python",
   "name": "python",
   "nbconvert_exporter": "python",
   "pygments_lexer": "ipython3",
   "version": "3.10.10"
  }
 },
 "nbformat": 4,
 "nbformat_minor": 2
}
